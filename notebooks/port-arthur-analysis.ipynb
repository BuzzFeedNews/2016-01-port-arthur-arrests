{
 "cells": [
  {
   "cell_type": "markdown",
   "metadata": {},
   "source": [
    "# Analysis of Jefferson County (TX) Jail Data\n",
    "\n",
    "The code below analyzes arrest data from Jefferson County, Texas. For more details and context, [please read this page](https://github.com/BuzzFeedNews/2016-01-port-arthur-arrests)."
   ]
  },
  {
   "cell_type": "markdown",
   "metadata": {},
   "source": [
    "## Load the data"
   ]
  },
  {
   "cell_type": "code",
   "execution_count": 1,
   "metadata": {
    "collapsed": true
   },
   "outputs": [],
   "source": [
    "import pandas as pd"
   ]
  },
  {
   "cell_type": "code",
   "execution_count": 2,
   "metadata": {
    "collapsed": true
   },
   "outputs": [],
   "source": [
    "date_cols = [\"ARREST DT\", \"RELEASE DT\" ]"
   ]
  },
  {
   "cell_type": "code",
   "execution_count": 3,
   "metadata": {
    "collapsed": false
   },
   "outputs": [],
   "source": [
    "all_class_c_arrests = pd.read_csv(\"../data/clean/all_class_c_arrests.csv\",\n",
    "    parse_dates=date_cols, dtype={\"WARRANT #\": str})"
   ]
  },
  {
   "cell_type": "code",
   "execution_count": 4,
   "metadata": {
    "collapsed": false
   },
   "outputs": [
    {
     "data": {
      "text/html": [
       "<div>\n",
       "<table border=\"1\" class=\"dataframe\">\n",
       "  <thead>\n",
       "    <tr style=\"text-align: right;\">\n",
       "      <th></th>\n",
       "      <th>#</th>\n",
       "      <th>OFFENSE</th>\n",
       "      <th>BOND</th>\n",
       "      <th>WARRANT #</th>\n",
       "      <th>FILED BY</th>\n",
       "      <th>JAIL ID</th>\n",
       "      <th>ARREST DT</th>\n",
       "      <th>RELEASE DT</th>\n",
       "      <th>RACE_SEX</th>\n",
       "      <th>days_served</th>\n",
       "      <th>ARREST YEAR</th>\n",
       "      <th>RACE</th>\n",
       "      <th>SEX</th>\n",
       "    </tr>\n",
       "  </thead>\n",
       "  <tbody>\n",
       "    <tr>\n",
       "      <th>0</th>\n",
       "      <td>1</td>\n",
       "      <td>FAILURE TO APPEAR</td>\n",
       "      <td>0</td>\n",
       "      <td>8080676</td>\n",
       "      <td>PAPD</td>\n",
       "      <td>193551</td>\n",
       "      <td>2005-01-01</td>\n",
       "      <td>2005-01-01</td>\n",
       "      <td>BM</td>\n",
       "      <td>0</td>\n",
       "      <td>2005</td>\n",
       "      <td>B</td>\n",
       "      <td>M</td>\n",
       "    </tr>\n",
       "    <tr>\n",
       "      <th>1</th>\n",
       "      <td>2</td>\n",
       "      <td>FAILURE TO APPEAR</td>\n",
       "      <td>0</td>\n",
       "      <td>8080488</td>\n",
       "      <td>PAPD</td>\n",
       "      <td>193551</td>\n",
       "      <td>2005-01-01</td>\n",
       "      <td>2005-01-01</td>\n",
       "      <td>BM</td>\n",
       "      <td>0</td>\n",
       "      <td>2005</td>\n",
       "      <td>B</td>\n",
       "      <td>M</td>\n",
       "    </tr>\n",
       "    <tr>\n",
       "      <th>2</th>\n",
       "      <td>3</td>\n",
       "      <td>FAILURE TO APPEAR</td>\n",
       "      <td>0</td>\n",
       "      <td>9080676</td>\n",
       "      <td>PAPD</td>\n",
       "      <td>193551</td>\n",
       "      <td>2005-01-01</td>\n",
       "      <td>2005-01-01</td>\n",
       "      <td>BM</td>\n",
       "      <td>0</td>\n",
       "      <td>2005</td>\n",
       "      <td>B</td>\n",
       "      <td>M</td>\n",
       "    </tr>\n",
       "    <tr>\n",
       "      <th>3</th>\n",
       "      <td>4</td>\n",
       "      <td>TRAFFIC OFFENSE-MOVING</td>\n",
       "      <td>0</td>\n",
       "      <td>80676</td>\n",
       "      <td>PAPD</td>\n",
       "      <td>193551</td>\n",
       "      <td>2005-01-01</td>\n",
       "      <td>2005-01-01</td>\n",
       "      <td>BM</td>\n",
       "      <td>0</td>\n",
       "      <td>2005</td>\n",
       "      <td>B</td>\n",
       "      <td>M</td>\n",
       "    </tr>\n",
       "    <tr>\n",
       "      <th>4</th>\n",
       "      <td>5</td>\n",
       "      <td>FAILURE TO MNTN FINAN RESP</td>\n",
       "      <td>0</td>\n",
       "      <td>80676</td>\n",
       "      <td>PAPD</td>\n",
       "      <td>193551</td>\n",
       "      <td>2005-01-01</td>\n",
       "      <td>2005-01-01</td>\n",
       "      <td>BM</td>\n",
       "      <td>0</td>\n",
       "      <td>2005</td>\n",
       "      <td>B</td>\n",
       "      <td>M</td>\n",
       "    </tr>\n",
       "  </tbody>\n",
       "</table>\n",
       "</div>"
      ],
      "text/plain": [
       "   #                     OFFENSE  BOND WARRANT # FILED BY  JAIL ID  ARREST DT  \\\n",
       "0  1           FAILURE TO APPEAR     0   8080676     PAPD   193551 2005-01-01   \n",
       "1  2           FAILURE TO APPEAR     0   8080488     PAPD   193551 2005-01-01   \n",
       "2  3           FAILURE TO APPEAR     0   9080676     PAPD   193551 2005-01-01   \n",
       "3  4      TRAFFIC OFFENSE-MOVING     0     80676     PAPD   193551 2005-01-01   \n",
       "4  5  FAILURE TO MNTN FINAN RESP     0     80676     PAPD   193551 2005-01-01   \n",
       "\n",
       "  RELEASE DT RACE_SEX  days_served  ARREST YEAR RACE SEX  \n",
       "0 2005-01-01       BM            0         2005    B   M  \n",
       "1 2005-01-01       BM            0         2005    B   M  \n",
       "2 2005-01-01       BM            0         2005    B   M  \n",
       "3 2005-01-01       BM            0         2005    B   M  \n",
       "4 2005-01-01       BM            0         2005    B   M  "
      ]
     },
     "execution_count": 4,
     "metadata": {},
     "output_type": "execute_result"
    }
   ],
   "source": [
    "all_class_c_arrests.head()"
   ]
  },
  {
   "cell_type": "code",
   "execution_count": 5,
   "metadata": {
    "collapsed": false
   },
   "outputs": [],
   "source": [
    "traffic_only = pd.read_csv(\"../data/clean/traffic_only.csv\", parse_dates=date_cols)"
   ]
  },
  {
   "cell_type": "code",
   "execution_count": 6,
   "metadata": {
    "collapsed": false
   },
   "outputs": [
    {
     "data": {
      "text/html": [
       "<div>\n",
       "<table border=\"1\" class=\"dataframe\">\n",
       "  <thead>\n",
       "    <tr style=\"text-align: right;\">\n",
       "      <th></th>\n",
       "      <th>JAIL ID</th>\n",
       "      <th>ARREST DT</th>\n",
       "      <th>charges</th>\n",
       "      <th>warrants_filed_by</th>\n",
       "      <th>RACE</th>\n",
       "      <th>SEX</th>\n",
       "      <th>RELEASE DT</th>\n",
       "      <th>ARREST YEAR</th>\n",
       "      <th>days_served</th>\n",
       "    </tr>\n",
       "  </thead>\n",
       "  <tbody>\n",
       "    <tr>\n",
       "      <th>0</th>\n",
       "      <td>55</td>\n",
       "      <td>2005-08-08</td>\n",
       "      <td>[FAILURE TO APPEAR, SPEEDING, DRIVING-WHILE LI...</td>\n",
       "      <td>[PAPD, PAPD, PAPD]</td>\n",
       "      <td>W</td>\n",
       "      <td>M</td>\n",
       "      <td>2005-08-08</td>\n",
       "      <td>2005</td>\n",
       "      <td>0</td>\n",
       "    </tr>\n",
       "    <tr>\n",
       "      <th>1</th>\n",
       "      <td>55</td>\n",
       "      <td>2006-03-18</td>\n",
       "      <td>[FAILURE TO APPEAR, FAILURE TO APPEAR, DRIVING...</td>\n",
       "      <td>[PAPD, PAPD, PAPD, PAPD]</td>\n",
       "      <td>W</td>\n",
       "      <td>M</td>\n",
       "      <td>2006-03-18</td>\n",
       "      <td>2006</td>\n",
       "      <td>0</td>\n",
       "    </tr>\n",
       "    <tr>\n",
       "      <th>2</th>\n",
       "      <td>99</td>\n",
       "      <td>2009-04-19</td>\n",
       "      <td>[STOP LIGHT- RUNNING, FAILURE TO APPEAR]</td>\n",
       "      <td>[PAPD, PAPD]</td>\n",
       "      <td>B</td>\n",
       "      <td>M</td>\n",
       "      <td>2009-04-22</td>\n",
       "      <td>2009</td>\n",
       "      <td>3</td>\n",
       "    </tr>\n",
       "    <tr>\n",
       "      <th>3</th>\n",
       "      <td>246</td>\n",
       "      <td>2006-01-29</td>\n",
       "      <td>[FAILURE TO APPEAR, SPEEDING]</td>\n",
       "      <td>[PAPD, PAPD]</td>\n",
       "      <td>B</td>\n",
       "      <td>M</td>\n",
       "      <td>2006-01-29</td>\n",
       "      <td>2006</td>\n",
       "      <td>0</td>\n",
       "    </tr>\n",
       "    <tr>\n",
       "      <th>4</th>\n",
       "      <td>540</td>\n",
       "      <td>2015-06-23</td>\n",
       "      <td>[DRIVING-NO DRIVERS LICENSE, SPEEDING, FAILURE...</td>\n",
       "      <td>[PAPD, PAPD, PAPD]</td>\n",
       "      <td>B</td>\n",
       "      <td>M</td>\n",
       "      <td>2015-06-24</td>\n",
       "      <td>2015</td>\n",
       "      <td>1</td>\n",
       "    </tr>\n",
       "  </tbody>\n",
       "</table>\n",
       "</div>"
      ],
      "text/plain": [
       "   JAIL ID  ARREST DT                                            charges  \\\n",
       "0       55 2005-08-08  [FAILURE TO APPEAR, SPEEDING, DRIVING-WHILE LI...   \n",
       "1       55 2006-03-18  [FAILURE TO APPEAR, FAILURE TO APPEAR, DRIVING...   \n",
       "2       99 2009-04-19           [STOP LIGHT- RUNNING, FAILURE TO APPEAR]   \n",
       "3      246 2006-01-29                      [FAILURE TO APPEAR, SPEEDING]   \n",
       "4      540 2015-06-23  [DRIVING-NO DRIVERS LICENSE, SPEEDING, FAILURE...   \n",
       "\n",
       "          warrants_filed_by RACE SEX RELEASE DT  ARREST YEAR  days_served  \n",
       "0        [PAPD, PAPD, PAPD]    W   M 2005-08-08         2005            0  \n",
       "1  [PAPD, PAPD, PAPD, PAPD]    W   M 2006-03-18         2006            0  \n",
       "2              [PAPD, PAPD]    B   M 2009-04-22         2009            3  \n",
       "3              [PAPD, PAPD]    B   M 2006-01-29         2006            0  \n",
       "4        [PAPD, PAPD, PAPD]    B   M 2015-06-24         2015            1  "
      ]
     },
     "execution_count": 6,
     "metadata": {},
     "output_type": "execute_result"
    }
   ],
   "source": [
    "traffic_only.head()"
   ]
  },
  {
   "cell_type": "code",
   "execution_count": 7,
   "metadata": {
    "collapsed": false
   },
   "outputs": [],
   "source": [
    "traffic_by_year = traffic_only.groupby(\"ARREST YEAR\")"
   ]
  },
  {
   "cell_type": "markdown",
   "metadata": {},
   "source": [
    "Number of people arrested per year:"
   ]
  },
  {
   "cell_type": "code",
   "execution_count": 8,
   "metadata": {
    "collapsed": true
   },
   "outputs": [],
   "source": [
    "all_class_c_arrests_by_year = all_class_c_arrests.groupby(\"ARREST YEAR\")"
   ]
  },
  {
   "cell_type": "code",
   "execution_count": 9,
   "metadata": {
    "collapsed": false
   },
   "outputs": [
    {
     "data": {
      "text/html": [
       "<div>\n",
       "<table border=\"1\" class=\"dataframe\">\n",
       "  <thead>\n",
       "    <tr style=\"text-align: right;\">\n",
       "      <th></th>\n",
       "      <th>JAIL ID</th>\n",
       "    </tr>\n",
       "    <tr>\n",
       "      <th>ARREST YEAR</th>\n",
       "      <th></th>\n",
       "    </tr>\n",
       "  </thead>\n",
       "  <tbody>\n",
       "    <tr>\n",
       "      <th>2005</th>\n",
       "      <td>1007</td>\n",
       "    </tr>\n",
       "    <tr>\n",
       "      <th>2006</th>\n",
       "      <td>996</td>\n",
       "    </tr>\n",
       "    <tr>\n",
       "      <th>2007</th>\n",
       "      <td>1128</td>\n",
       "    </tr>\n",
       "    <tr>\n",
       "      <th>2008</th>\n",
       "      <td>927</td>\n",
       "    </tr>\n",
       "    <tr>\n",
       "      <th>2009</th>\n",
       "      <td>1223</td>\n",
       "    </tr>\n",
       "    <tr>\n",
       "      <th>2010</th>\n",
       "      <td>1708</td>\n",
       "    </tr>\n",
       "    <tr>\n",
       "      <th>2011</th>\n",
       "      <td>1763</td>\n",
       "    </tr>\n",
       "    <tr>\n",
       "      <th>2012</th>\n",
       "      <td>1446</td>\n",
       "    </tr>\n",
       "    <tr>\n",
       "      <th>2013</th>\n",
       "      <td>1354</td>\n",
       "    </tr>\n",
       "    <tr>\n",
       "      <th>2014</th>\n",
       "      <td>1055</td>\n",
       "    </tr>\n",
       "    <tr>\n",
       "      <th>2015</th>\n",
       "      <td>928</td>\n",
       "    </tr>\n",
       "  </tbody>\n",
       "</table>\n",
       "</div>"
      ],
      "text/plain": [
       "             JAIL ID\n",
       "ARREST YEAR         \n",
       "2005            1007\n",
       "2006             996\n",
       "2007            1128\n",
       "2008             927\n",
       "2009            1223\n",
       "2010            1708\n",
       "2011            1763\n",
       "2012            1446\n",
       "2013            1354\n",
       "2014            1055\n",
       "2015             928"
      ]
     },
     "execution_count": 9,
     "metadata": {},
     "output_type": "execute_result"
    }
   ],
   "source": [
    "pd.DataFrame(all_class_c_arrests_by_year[\"JAIL ID\"].nunique())"
   ]
  },
  {
   "cell_type": "code",
   "execution_count": 10,
   "metadata": {
    "collapsed": false
   },
   "outputs": [
    {
     "data": {
      "text/html": [
       "<div>\n",
       "<table border=\"1\" class=\"dataframe\">\n",
       "  <thead>\n",
       "    <tr style=\"text-align: right;\">\n",
       "      <th></th>\n",
       "      <th>JAIL ID</th>\n",
       "    </tr>\n",
       "    <tr>\n",
       "      <th>ARREST YEAR</th>\n",
       "      <th></th>\n",
       "    </tr>\n",
       "  </thead>\n",
       "  <tbody>\n",
       "    <tr>\n",
       "      <th>2005</th>\n",
       "      <td>407</td>\n",
       "    </tr>\n",
       "    <tr>\n",
       "      <th>2006</th>\n",
       "      <td>391</td>\n",
       "    </tr>\n",
       "    <tr>\n",
       "      <th>2007</th>\n",
       "      <td>405</td>\n",
       "    </tr>\n",
       "    <tr>\n",
       "      <th>2008</th>\n",
       "      <td>341</td>\n",
       "    </tr>\n",
       "    <tr>\n",
       "      <th>2009</th>\n",
       "      <td>559</td>\n",
       "    </tr>\n",
       "    <tr>\n",
       "      <th>2010</th>\n",
       "      <td>558</td>\n",
       "    </tr>\n",
       "    <tr>\n",
       "      <th>2011</th>\n",
       "      <td>531</td>\n",
       "    </tr>\n",
       "    <tr>\n",
       "      <th>2012</th>\n",
       "      <td>419</td>\n",
       "    </tr>\n",
       "    <tr>\n",
       "      <th>2013</th>\n",
       "      <td>438</td>\n",
       "    </tr>\n",
       "    <tr>\n",
       "      <th>2014</th>\n",
       "      <td>290</td>\n",
       "    </tr>\n",
       "    <tr>\n",
       "      <th>2015</th>\n",
       "      <td>285</td>\n",
       "    </tr>\n",
       "  </tbody>\n",
       "</table>\n",
       "</div>"
      ],
      "text/plain": [
       "             JAIL ID\n",
       "ARREST YEAR         \n",
       "2005             407\n",
       "2006             391\n",
       "2007             405\n",
       "2008             341\n",
       "2009             559\n",
       "2010             558\n",
       "2011             531\n",
       "2012             419\n",
       "2013             438\n",
       "2014             290\n",
       "2015             285"
      ]
     },
     "execution_count": 10,
     "metadata": {},
     "output_type": "execute_result"
    }
   ],
   "source": [
    "pd.DataFrame(traffic_by_year[\"JAIL ID\"].nunique())"
   ]
  },
  {
   "cell_type": "markdown",
   "metadata": {},
   "source": [
    "*Note: Data does not cover the entire year of 2015.*"
   ]
  },
  {
   "cell_type": "markdown",
   "metadata": {},
   "source": [
    "## Analyses"
   ]
  },
  {
   "cell_type": "markdown",
   "metadata": {},
   "source": [
    "### \"From 2009 to 2011, the height of the city’s traffic enforcement spree, about 1,500 people were booked into lockup for unpaid traffic fines.\""
   ]
  },
  {
   "cell_type": "code",
   "execution_count": 11,
   "metadata": {
    "collapsed": true
   },
   "outputs": [],
   "source": [
    "traffic_only_2009_2011 = traffic_only[\n",
    "    (traffic_only[\"ARREST YEAR\"] >= 2009) & \n",
    "    (traffic_only[\"ARREST YEAR\"] <= 2011)\n",
    "]"
   ]
  },
  {
   "cell_type": "code",
   "execution_count": 12,
   "metadata": {
    "collapsed": false
   },
   "outputs": [
    {
     "data": {
      "text/plain": [
       "1518"
      ]
     },
     "execution_count": 12,
     "metadata": {},
     "output_type": "execute_result"
    }
   ],
   "source": [
    "len(traffic_only_2009_2011[\"JAIL ID\"].unique())"
   ]
  },
  {
   "cell_type": "markdown",
   "metadata": {},
   "source": [
    "### \"Beyond those numbers lies a racial dimension: The people who Port Arthur police put behind bars for their traffic tickets are disproportionately black. While black people make up only 40% of the overall population — and are ticketed at about that rate — they accounted for about 70% of the arrests for these citations in 2014, according to a BuzzFeed News analysis.\""
   ]
  },
  {
   "cell_type": "code",
   "execution_count": 13,
   "metadata": {
    "collapsed": true
   },
   "outputs": [],
   "source": [
    "all_class_c_arrests_2014 = all_class_c_arrests[\n",
    "    (all_class_c_arrests[\"ARREST YEAR\"] == 2014)\n",
    "]"
   ]
  },
  {
   "cell_type": "code",
   "execution_count": 14,
   "metadata": {
    "collapsed": true
   },
   "outputs": [],
   "source": [
    "traffic_only_2014 = traffic_only[\n",
    "    (traffic_only[\"ARREST YEAR\"] == 2014)\n",
    "]"
   ]
  },
  {
   "cell_type": "code",
   "execution_count": 15,
   "metadata": {
    "collapsed": true
   },
   "outputs": [],
   "source": [
    "n_arrested_class_c_2014 = all_class_c_arrests_2014[\"JAIL ID\"].nunique()\n",
    "\n",
    "n_black_arrested_class_c_2014 = all_class_c_arrests_2014[\n",
    "    all_class_c_arrests_2014[\"RACE\"].str.contains('B')\n",
    "][\"JAIL ID\"].nunique()"
   ]
  },
  {
   "cell_type": "code",
   "execution_count": 16,
   "metadata": {
    "collapsed": false
   },
   "outputs": [
    {
     "name": "stdout",
     "output_type": "stream",
     "text": [
      "\n",
      "• 1,055 people were arrested for Class C offenses by Port Arthur Police in 2014.\n",
      "• Of those people, 668 — or 63.3% — were listed as black.\n",
      "\n"
     ]
    }
   ],
   "source": [
    "print(\"\"\"\n",
    "• {0:,} people were arrested for Class C offenses by Port Arthur Police in 2014.\n",
    "• Of those people, {1:,} — or {2:.1f}% — were listed as black.\n",
    "\"\"\".format(\n",
    "    n_arrested_class_c_2014,\n",
    "    n_black_arrested_class_c_2014,\n",
    "    n_black_arrested_class_c_2014 * 100.0 / n_arrested_class_c_2014))"
   ]
  },
  {
   "cell_type": "markdown",
   "metadata": {},
   "source": [
    "As the code below shows, a similar pattern holds when you look at people arrested only for traffic offenses."
   ]
  },
  {
   "cell_type": "code",
   "execution_count": 17,
   "metadata": {
    "collapsed": true
   },
   "outputs": [],
   "source": [
    "n_arrested_traffic_only_2014 = traffic_only_2014[\"JAIL ID\"].nunique()\n",
    "\n",
    "n_black_arrested_traffic_only_2014 = traffic_only_2014[\n",
    "    traffic_only_2014[\"RACE\"].str.contains('B')\n",
    "][\"JAIL ID\"].nunique()"
   ]
  },
  {
   "cell_type": "code",
   "execution_count": 18,
   "metadata": {
    "collapsed": false
   },
   "outputs": [
    {
     "name": "stdout",
     "output_type": "stream",
     "text": [
      "\n",
      "• 290 people were arrested for Class C *traffic* offenses by Port Arthur Police in 2014.\n",
      "• Of those people, 208 — or 71.7% — were listed as black.\n",
      "\n"
     ]
    }
   ],
   "source": [
    "print(\"\"\"\n",
    "• {0:,} people were arrested for Class C *traffic* offenses by Port Arthur Police in 2014.\n",
    "• Of those people, {1:,} — or {2:.1f}% — were listed as black.\n",
    "\"\"\".format(\n",
    "    n_arrested_traffic_only_2014,\n",
    "    n_black_arrested_traffic_only_2014,\n",
    "    n_black_arrested_traffic_only_2014 * 100.0 / n_arrested_traffic_only_2014))"
   ]
  },
  {
   "cell_type": "markdown",
   "metadata": {},
   "source": [
    "### \"Over the past decade, about 1,300 people have spent three days or more in jail for traffic tickets — and about 75% of those people were black.\""
   ]
  },
  {
   "cell_type": "code",
   "execution_count": 19,
   "metadata": {
    "collapsed": false
   },
   "outputs": [],
   "source": [
    "all_class_c_arrests_2005_2014 = all_class_c_arrests[\n",
    "    (all_class_c_arrests[\"ARREST YEAR\"] >= 2005) & \n",
    "    (all_class_c_arrests[\"ARREST YEAR\"] <= 2014)\n",
    "]"
   ]
  },
  {
   "cell_type": "code",
   "execution_count": 20,
   "metadata": {
    "collapsed": false
   },
   "outputs": [],
   "source": [
    "traffic_only_2005_2014 = traffic_only[\n",
    "    (traffic_only[\"ARREST YEAR\"] >= 2005) & \n",
    "    (traffic_only[\"ARREST YEAR\"] <= 2014)\n",
    "]"
   ]
  },
  {
   "cell_type": "code",
   "execution_count": 21,
   "metadata": {
    "collapsed": false
   },
   "outputs": [],
   "source": [
    "class_c_three_nights_2005_2014 = all_class_c_arrests_2005_2014[\n",
    "    all_class_c_arrests_2005_2014[\"days_served\"] >= 3\n",
    "]\n",
    "\n",
    "n_class_c_three_nights_2005_2014 = class_c_three_nights_2005_2014[\"JAIL ID\"].nunique()\n",
    "\n",
    "n_black_class_c_three_nights_2005_2014 = class_c_three_nights_2005_2014[\n",
    "    class_c_three_nights_2005_2014[\"RACE\"].str.contains('B')\n",
    "][\"JAIL ID\"].nunique()"
   ]
  },
  {
   "cell_type": "code",
   "execution_count": 22,
   "metadata": {
    "collapsed": false
   },
   "outputs": [
    {
     "name": "stdout",
     "output_type": "stream",
     "text": [
      "\n",
      "• Over the past decade, 3,021 people spent 3 nights or more in jail for Class C offenses.\n",
      "• Of those people, 2,083 — or 69.0% — were black.\n",
      "\n"
     ]
    }
   ],
   "source": [
    "print(\"\"\"\n",
    "• Over the past decade, {0:,d} people spent 3 nights or more in jail for Class C offenses.\n",
    "• Of those people, {1:,} — or {2:.1f}% — were black.\n",
    "\"\"\".format(\n",
    "    n_class_c_three_nights_2005_2014,\n",
    "    n_black_class_c_three_nights_2005_2014,\n",
    "    n_black_class_c_three_nights_2005_2014 * 100.0 / n_class_c_three_nights_2005_2014\n",
    "))"
   ]
  },
  {
   "cell_type": "markdown",
   "metadata": {},
   "source": [
    "As the code below shows, a similar pattern holds when you look at people arrested only for traffic offenses."
   ]
  },
  {
   "cell_type": "code",
   "execution_count": 23,
   "metadata": {
    "collapsed": true
   },
   "outputs": [],
   "source": [
    "traffic_three_nights_2005_2014 = traffic_only_2005_2014[\n",
    "    traffic_only_2005_2014[\"days_served\"] >= 3\n",
    "]\n",
    "\n",
    "n_traffic_three_nights_2005_2014 = traffic_three_nights_2005_2014[\"JAIL ID\"].nunique()\n",
    "\n",
    "n_black_traffic_three_nights_2005_2014 = traffic_three_nights_2005_2014[\n",
    "    traffic_three_nights_2005_2014[\"RACE\"].str.contains('B')\n",
    "][\"JAIL ID\"].nunique()"
   ]
  },
  {
   "cell_type": "code",
   "execution_count": 24,
   "metadata": {
    "collapsed": false
   },
   "outputs": [
    {
     "name": "stdout",
     "output_type": "stream",
     "text": [
      "\n",
      "• Over the past decade, 1,315 people spent 3 nights or more in jail for Class C *traffic* offenses.\n",
      "• Of those people, 1,000 — or 76.0% — were black.\n",
      "\n"
     ]
    }
   ],
   "source": [
    "print(\"\"\"\n",
    "• Over the past decade, {0:,d} people spent 3 nights or more in jail for Class C *traffic* offenses.\n",
    "• Of those people, {1:,} — or {2:.1f}% — were black.\n",
    "\"\"\".format(\n",
    "    n_traffic_three_nights_2005_2014,\n",
    "    n_black_traffic_three_nights_2005_2014,\n",
    "    n_black_traffic_three_nights_2005_2014 * 100.0 / n_traffic_three_nights_2005_2014\n",
    "))"
   ]
  },
  {
   "cell_type": "markdown",
   "metadata": {},
   "source": [
    "---\n",
    "\n",
    "---\n",
    "\n",
    "---"
   ]
  }
 ],
 "metadata": {
  "kernelspec": {
   "display_name": "Python 2",
   "language": "python",
   "name": "python2"
  },
  "language_info": {
   "codemirror_mode": {
    "name": "ipython",
    "version": 2
   },
   "file_extension": ".py",
   "mimetype": "text/x-python",
   "name": "python",
   "nbconvert_exporter": "python",
   "pygments_lexer": "ipython2",
   "version": "2.7.8"
  }
 },
 "nbformat": 4,
 "nbformat_minor": 0
}
